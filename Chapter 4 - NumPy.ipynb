{
 "cells": [
  {
   "cell_type": "markdown",
   "metadata": {},
   "source": [
    "# <p style = \"text-align: center;\"> <font color = #e34b97> Chapter 4: NumPy Basics <p> <p style = \"text-align: center;\"> Arrays and Vectorized Computation <p> <p style = \"text-align: center;\"> p. 84 - 122"
   ]
  },
  {
   "cell_type": "code",
   "execution_count": 2,
   "metadata": {},
   "outputs": [
    {
     "name": "stdout",
     "output_type": "stream",
     "text": [
      "Wall time: 1.19 s\n"
     ]
    }
   ],
   "source": [
    "import numpy as np\n",
    "my_arr = np.arange(1000000)\n",
    "my_list = list(range(1000000)) #let's multiply these lists by 2\n",
    "\n",
    "#Numpy algorithms are generally faster than pure python!\n",
    "%time\n",
    "%time for _ in range(10): my_list2 = [x * 2 for x in my_list]"
   ]
  },
  {
   "cell_type": "code",
   "execution_count": 10,
   "metadata": {},
   "outputs": [
    {
     "data": {
      "text/plain": [
       "array([[0.14242742, 0.6312578 , 0.1436667 ],\n",
       "       [0.45644598, 0.49631204, 0.64897832]])"
      ]
     },
     "execution_count": 10,
     "metadata": {},
     "output_type": "execute_result"
    }
   ],
   "source": [
    "# Generate some random data\n",
    "data = np.random.rand(2, 3) # generate RANDOM NUMBERS that contain 2 columns, with 3 rows, so 6 total\n",
    "data"
   ]
  },
  {
   "cell_type": "code",
   "execution_count": 12,
   "metadata": {},
   "outputs": [
    {
     "data": {
      "text/plain": [
       "array([[1.42427423, 6.31257795, 1.43666697],\n",
       "       [4.56445976, 4.96312041, 6.48978319]])"
      ]
     },
     "execution_count": 12,
     "metadata": {},
     "output_type": "execute_result"
    }
   ],
   "source": [
    "data + data\n",
    "data * 10"
   ]
  },
  {
   "cell_type": "code",
   "execution_count": 14,
   "metadata": {},
   "outputs": [
    {
     "data": {
      "text/plain": [
       "dtype('float64')"
      ]
     },
     "execution_count": 14,
     "metadata": {},
     "output_type": "execute_result"
    }
   ],
   "source": [
    "# an ndarray holds data that must all be the of the same type\n",
    "#dytpe can be used to describe the data type of an array\n",
    "\n",
    "data.shape # tells you the dimensions, 2 columns by 3 rows\n",
    "\n",
    "data.dtype"
   ]
  },
  {
   "cell_type": "code",
   "execution_count": 15,
   "metadata": {},
   "outputs": [
    {
     "data": {
      "text/plain": [
       "array([6. , 7.5, 8. , 0. , 1. ])"
      ]
     },
     "execution_count": 15,
     "metadata": {},
     "output_type": "execute_result"
    }
   ],
   "source": [
    "# Creating ndarrays, using the array function. Turn a normal array into a Numpy-friently array\n",
    "data1 = [6, 7.5, 8, 0, 1]\n",
    "arr1 = np.array(data1)\n",
    "\n",
    "arr1"
   ]
  },
  {
   "cell_type": "code",
   "execution_count": 16,
   "metadata": {},
   "outputs": [
    {
     "data": {
      "text/plain": [
       "array([[1, 2, 3, 4],\n",
       "       [5, 6, 7, 8]])"
      ]
     },
     "execution_count": 16,
     "metadata": {},
     "output_type": "execute_result"
    }
   ],
   "source": [
    "data2 = [[1, 2, 3, 4], [5, 6, 7, 8]] # a list of lists\n",
    "arr2 = np.array(data2)\n",
    "\n",
    "arr2 # this has two dimensions with 'shape inferred' from the data"
   ]
  },
  {
   "cell_type": "code",
   "execution_count": 19,
   "metadata": {},
   "outputs": [
    {
     "data": {
      "text/plain": [
       "(2, 4)"
      ]
     },
     "execution_count": 19,
     "metadata": {},
     "output_type": "execute_result"
    }
   ],
   "source": [
    "# We can confirm the above by inspecting its attributes ndim and shape\n",
    "arr2.ndim #how many dimensions- 2 because 2 lists\n",
    "\n",
    "arr2.shape # contains 2 lists with 4 items in each lists"
   ]
  },
  {
   "cell_type": "code",
   "execution_count": 23,
   "metadata": {},
   "outputs": [
    {
     "data": {
      "text/plain": [
       "dtype('int32')"
      ]
     },
     "execution_count": 23,
     "metadata": {},
     "output_type": "execute_result"
    }
   ],
   "source": [
    "# We can check the data type of the array\n",
    "arr1.dtype\n",
    "\n",
    "arr2.dtype  #??? How come my answer i int32, not 64?"
   ]
  },
  {
   "cell_type": "markdown",
   "metadata": {},
   "source": [
    "## <font color = \"red\"> ** Why does my np.empty((2, 3, 2)) return garabge?"
   ]
  },
  {
   "cell_type": "code",
   "execution_count": 33,
   "metadata": {},
   "outputs": [
    {
     "data": {
      "text/plain": [
       "array([[0., 0., 0., 0., 0., 0.],\n",
       "       [0., 0., 0., 0., 0., 0.],\n",
       "       [0., 0., 0., 0., 0., 0.]])"
      ]
     },
     "execution_count": 33,
     "metadata": {},
     "output_type": "execute_result"
    }
   ],
   "source": [
    "# Other ways to create arrays (???) Why tf would u ever use this\n",
    "# Just to prep for incoming data/make an empty array?\n",
    "\n",
    "np.zeros(10) # make an array of zeros, 10 of them\n",
    "np.zeros((3, 6)) # make an array of 0s, with 3 rows/lists, 6 items each\n",
    "\n",
    "# An equal function is to use np.empty\n",
    "# np.empty((2, 3, 2)) #BOOK SAYS on pg 90, may return garbage, instead of 0s\n",
    "# MINE RETURNS GARBAGE"
   ]
  },
  {
   "cell_type": "code",
   "execution_count": 30,
   "metadata": {},
   "outputs": [
    {
     "data": {
      "text/plain": [
       "array([0, 0, 0, 0, 0, 0, 0, 0, 0, 0])"
      ]
     },
     "execution_count": 30,
     "metadata": {},
     "output_type": "execute_result"
    }
   ],
   "source": [
    "# EXTRA: https://www.sharpsightlabs.com/blog/numpy-zeros-python/ \n",
    "\n",
    "np.zeros(10, dtype = int) # if you don't want them to be floaters"
   ]
  },
  {
   "cell_type": "code",
   "execution_count": 34,
   "metadata": {},
   "outputs": [
    {
     "data": {
      "text/plain": [
       "array([ 0,  1,  2,  3,  4,  5,  6,  7,  8,  9, 10, 11, 12, 13, 14])"
      ]
     },
     "execution_count": 34,
     "metadata": {},
     "output_type": "execute_result"
    }
   ],
   "source": [
    " # Can arrange the array values\n",
    "np.arange(15)"
   ]
  },
  {
   "cell_type": "markdown",
   "metadata": {},
   "source": [
    "## <center> --- <p><p><center>See page 90, Table 4-1 for Array creation functions <p><center> ---"
   ]
  },
  {
   "cell_type": "markdown",
   "metadata": {},
   "source": [
    "## <font color = #30a9d9> Data Types for ndarrays"
   ]
  },
  {
   "cell_type": "code",
   "execution_count": null,
   "metadata": {},
   "outputs": [],
   "source": [
    "# Data types for ndarrays - data type contains metadata, aka data about the data\n",
    "# more for advanced uses and users\n",
    "\n",
    "# You can covert or CAST an arat from one dtype to another, useing astype method\n",
    "arr = np.array([1, 2, 3, 4, 5])\n",
    "\n",
    "arr.dtype # this will output dtype('int64')\n",
    "\n",
    "float_arr = arr.astype(np.float64) #converts...??? wait wat...pg 92."
   ]
  },
  {
   "cell_type": "code",
   "execution_count": 3,
   "metadata": {},
   "outputs": [
    {
     "data": {
      "text/plain": [
       "array([ 3, -4,  2,  4, -1])"
      ]
     },
     "execution_count": 3,
     "metadata": {},
     "output_type": "execute_result"
    }
   ],
   "source": [
    "# Converting floats into integers\n",
    "import numpy as np  # always REMEMBER TO DO THIS EACH TIME, LOAD NP\n",
    "arr = np.array([3.9, -4.7, 2.3, 4.5, -1.2])\n",
    "\n",
    "arr.astype(np.int32)   #Convert! THIS DOES NOT ROUND ! JUST CONVERTS TO INTEGERS"
   ]
  },
  {
   "cell_type": "code",
   "execution_count": 5,
   "metadata": {},
   "outputs": [
    {
     "data": {
      "text/plain": [
       "array([ 1.24,  4.6 , 55.  ])"
      ]
     },
     "execution_count": 5,
     "metadata": {},
     "output_type": "execute_result"
    }
   ],
   "source": [
    "# You can also convert a string of numbers in an interger type\n",
    "numeric_strings = np.array(['1.24', '4.6', '55'])\n",
    "\n",
    "numeric_strings.astype(float)"
   ]
  },
  {
   "cell_type": "code",
   "execution_count": 9,
   "metadata": {},
   "outputs": [
    {
     "data": {
      "text/plain": [
       "array([0., 1., 2., 3., 4., 5., 6., 7., 8., 9.])"
      ]
     },
     "execution_count": 9,
     "metadata": {},
     "output_type": "execute_result"
    }
   ],
   "source": [
    "# you can also use another array's dtype attribute...WHAT DOES THIS MEAN\n",
    "int_array = np.arange(10) #here we create a variable that is just an Numpy ranga from 0 - 9 normally.\n",
    "\n",
    "\n",
    "calibers = np.array([.22, .270, .447, .380, .44, .50], dtype = np.float64) #this is just another variable, but with floaters\n",
    "\n",
    "int_array.astype(calibers.dtype)  #here, we are saying WITH VARIABLE X, converit it to the same data type as VARIABLE Y!\n",
    "\n",
    "#So in this case, from the type the int_array is (integer) to the type that calibers is (float)"
   ]
  },
  {
   "cell_type": "markdown",
   "metadata": {},
   "source": [
    "## <font color = #30a9d9> Arithmetic with NumPy Arrays\n",
    "\n",
    "Arrays are cool because they let you \"express batch operations on data\" without the need to write a for loop.<br>\n",
    "This can also be called _vectorization_ .\n",
    " "
   ]
  },
  {
   "cell_type": "code",
   "execution_count": 13,
   "metadata": {},
   "outputs": [
    {
     "data": {
      "text/plain": [
       "array([[1., 2., 3.],\n",
       "       [4., 5., 6.]])"
      ]
     },
     "execution_count": 13,
     "metadata": {},
     "output_type": "execute_result"
    }
   ],
   "source": [
    "arr = np.array([[1., 2., 3., ], [4., 5., 6.]])\n",
    "arr"
   ]
  },
  {
   "cell_type": "code",
   "execution_count": 15,
   "metadata": {},
   "outputs": [
    {
     "data": {
      "text/plain": [
       "array([[1.        , 0.5       , 0.33333333],\n",
       "       [0.25      , 0.2       , 0.16666667]])"
      ]
     },
     "execution_count": 15,
     "metadata": {},
     "output_type": "execute_result"
    }
   ],
   "source": [
    "#arr * arr  #maths! like in R\n",
    "\n",
    "1 / arr"
   ]
  },
  {
   "cell_type": "code",
   "execution_count": 16,
   "metadata": {},
   "outputs": [
    {
     "data": {
      "text/plain": [
       "array([[False,  True, False],\n",
       "       [ True, False,  True]])"
      ]
     },
     "execution_count": 16,
     "metadata": {},
     "output_type": "execute_result"
    }
   ],
   "source": [
    "# You can also make comparisons between arrays\n",
    "arr2 = ([[0., 4., 1.], [7., 2., 12.]])\n",
    "\n",
    "arr2 > arr"
   ]
  },
  {
   "cell_type": "markdown",
   "metadata": {},
   "source": [
    "## <font color = #30a9d9> Basic Indexing and Slicing\n",
    " To select a certain subset of your data. "
   ]
  },
  {
   "cell_type": "code",
   "execution_count": 20,
   "metadata": {},
   "outputs": [
    {
     "data": {
      "text/plain": [
       "array([ 0,  1,  2,  3,  4, 12, 12, 12,  8,  9])"
      ]
     },
     "execution_count": 20,
     "metadata": {},
     "output_type": "execute_result"
    }
   ],
   "source": [
    "arr = np.arange(10)\n",
    "\n",
    "# arr[5] # give me the SIXTH value in the array \"arr\"\n",
    "\n",
    "#arr[5:8] # give me the SIXTH thru EIGTH value in the array \"arr\"\n",
    "\n",
    "#can even assign values in \"slices\"\n",
    "\n",
    "arr[5:8] = 12   # replaces the 6th thru 8th values with 12. This value is being propogated OR BROADCASTED\n",
    "arr"
   ]
  },
  {
   "cell_type": "markdown",
   "metadata": {},
   "source": [
    "    An important first distinction from Python’s built-in lists is that array slices are views on the original array. This means that the data is not copied, and any modifications to the view will be reflected in the source array. "
   ]
  },
  {
   "cell_type": "code",
   "execution_count": 23,
   "metadata": {},
   "outputs": [
    {
     "data": {
      "text/plain": [
       "array([    0,     1,     2,     3,     4,    12, 12345,    12,     8,\n",
       "           9])"
      ]
     },
     "execution_count": 23,
     "metadata": {},
     "output_type": "execute_result"
    }
   ],
   "source": [
    "# FOR EXAMPLE, with 1 dimensional arrays\n",
    "arr_slice = arr[5:8]\n",
    "# arr_slice\n",
    "\n",
    "arr_slice[1] = 12345   # even though we apply this value to arr_slice, arr_slice is NOT it's own array,\n",
    "#rather, it is strictly a copy from arr. that's why, any changes make to arr_slice will apply to the original arr\n",
    "\n",
    "# Think of it like this: it is literal copy paste! In Py language, this is called \"VIEWING\"\n",
    "\n",
    "arr"
   ]
  },
  {
   "cell_type": "code",
   "execution_count": 24,
   "metadata": {},
   "outputs": [
    {
     "data": {
      "text/plain": [
       "array([ 0,  1,  2,  3,  4, 64, 64, 64,  8,  9])"
      ]
     },
     "execution_count": 24,
     "metadata": {},
     "output_type": "execute_result"
    }
   ],
   "source": [
    "# The \"bare\" slice [:] will assign to all values in array\n",
    "arr_slice[:] = 64  #remember, previously we declared that arr_slice is 5:8 of arr\n",
    "arr"
   ]
  },
  {
   "cell_type": "code",
   "execution_count": 25,
   "metadata": {},
   "outputs": [
    {
     "data": {
      "text/plain": [
       "array([64, 64, 64])"
      ]
     },
     "execution_count": 25,
     "metadata": {},
     "output_type": "execute_result"
    }
   ],
   "source": [
    "# If you want to make an ACTUAL, SEPARATE COPY, you can do, for example\n",
    "arr[5:8].copy()"
   ]
  },
  {
   "cell_type": "code",
   "execution_count": 2,
   "metadata": {},
   "outputs": [
    {
     "data": {
      "text/plain": [
       "3"
      ]
     },
     "execution_count": 2,
     "metadata": {},
     "output_type": "execute_result"
    }
   ],
   "source": [
    "# 2 dimensional arrays, when an array contains multiple\n",
    "import numpy as np\n",
    "arr2d = np.array([[1, 2, 3], [4, 5, 6], [7, 8, 9]])  # this is TWO-d array, because remember, count starts counting at 0\n",
    "arr2d[0][2]  # This says, from the FIRST array, give me the THIRD item"
   ]
  },
  {
   "cell_type": "code",
   "execution_count": 4,
   "metadata": {},
   "outputs": [
    {
     "data": {
      "text/plain": [
       "array([[[ 1,  2,  3],\n",
       "        [ 4,  5,  6]],\n",
       "\n",
       "       [[ 7,  8,  9],\n",
       "        [10, 11, 12]]])"
      ]
     },
     "execution_count": 4,
     "metadata": {},
     "output_type": "execute_result"
    }
   ],
   "source": [
    "# Here is an example of a 2 x 2 x 3 array\n",
    "arr3d = np.array([[[1, 2, 3,], [4, 5, 6]], [[7, 8, 9], [10, 11, 12]]])\n",
    "arr3d \n",
    "\n",
    "# Notice how this prints... It is two groups of TWO arrays, with 3 items in each"
   ]
  },
  {
   "cell_type": "code",
   "execution_count": null,
   "metadata": {},
   "outputs": [],
   "source": [
    "# Both scalar values and arrays can be assigned to the 3d array\n",
    "old_values = arr3d[0].copy()\n",
    "arr3d[0] = 42    # Make every value in the 1st group of arrays 42\n",
    "\n",
    "# and can also change it back with\n",
    "# arr3d[0]"
   ]
  },
  {
   "cell_type": "code",
   "execution_count": 5,
   "metadata": {},
   "outputs": [
    {
     "data": {
      "text/plain": [
       "array([7, 8, 9])"
      ]
     },
     "execution_count": 5,
     "metadata": {},
     "output_type": "execute_result"
    }
   ],
   "source": [
    "arr3d[1, 0]"
   ]
  },
  {
   "cell_type": "code",
   "execution_count": 11,
   "metadata": {},
   "outputs": [
    {
     "data": {
      "text/plain": [
       "array([[2, 3],\n",
       "       [5, 6]])"
      ]
     },
     "execution_count": 11,
     "metadata": {},
     "output_type": "execute_result"
    }
   ],
   "source": [
    "# You can index and slice arrays with similar syntax used previously, but a bit diff meaning for multidimensional arrays\n",
    "arr2d\n",
    "\n",
    "# arr2d[:2] # cut the THIRD array, only give the first 2, \"sliced along the axis 0\"\n",
    "\n",
    "arr2d[:2, 1:] # Reads as, from the first TWO arrays, give me only the 2ND value and onwards!"
   ]
  },
  {
   "cell_type": "code",
   "execution_count": 12,
   "metadata": {},
   "outputs": [
    {
     "data": {
      "text/plain": [
       "array([4, 5])"
      ]
     },
     "execution_count": 12,
     "metadata": {},
     "output_type": "execute_result"
    }
   ],
   "source": [
    "# arr2d[1, :2]         Select the 2nd row, but only the first 2 columns:\n",
    "# arr2d[:2, 2]         Select the 3rd column, but only the first two rows\n",
    "\n",
    "# A colon by itself means to take the ENTIRE acise...."
   ]
  },
  {
   "cell_type": "code",
   "execution_count": null,
   "metadata": {},
   "outputs": [],
   "source": [
    "arr2d[:2, 1:] = 0   #Change to 0, in the first two rows, from the 2nd column and onwards\n",
    "arr2d"
   ]
  },
  {
   "attachments": {
    "image.png": {
     "image/png": "[encoded data removed]"
    }
   },
   "cell_type": "markdown",
   "metadata": {},
   "source": [
    "![image.png](attachment:image.png) \n",
    "    from page 99"
   ]
  },
  {
   "cell_type": "markdown",
   "metadata": {},
   "source": [
    "## <font color = #30a9d9> Boolean Indexing"
   ]
  },
  {
   "cell_type": "code",
   "execution_count": 14,
   "metadata": {
    "scrolled": true
   },
   "outputs": [
    {
     "data": {
      "text/plain": [
       "array([[-1.40676714, -0.89172493, -1.51904778,  1.1763402 ],\n",
       "       [ 1.12030126,  0.87062442, -0.32328632,  0.86987929],\n",
       "       [-1.63323569,  2.3873891 ,  0.10135972, -0.02746929],\n",
       "       [-0.29613457, -0.30711609, -0.47035109,  0.34238975],\n",
       "       [-0.42412117, -0.09233894, -0.47165129,  0.73853355],\n",
       "       [ 0.67631705,  2.67676415, -1.11937917,  0.51146987],\n",
       "       [-0.72708519, -0.43484328, -0.40598532, -1.27147975]])"
      ]
     },
     "execution_count": 14,
     "metadata": {},
     "output_type": "execute_result"
    }
   ],
   "source": [
    "# What if we have an array pf strings, with some duplicates?\n",
    "names = np.array(['Bob', 'Joe', 'Will', 'Bob', 'Will', 'Joe', 'Joe'])\n",
    "data = np.random.randn(7, 4)  # randn generates random numbers. this says, generate 7 rows/arrays with 4 items each\n",
    "\n",
    "names\n",
    "\n",
    "data"
   ]
  },
  {
   "cell_type": "markdown",
   "metadata": {},
   "source": [
    "    *Suppose each name corresponds to a row in the data  array and we wanted to select all the rows with corresponding name 'Bob'. Like arithmetic operations, comparisons (such as ==) with arrays are also vectorized. Thus, comparing names  with the string 'Bob' yields a boolean array: "
   ]
  },
  {
   "cell_type": "code",
   "execution_count": 16,
   "metadata": {},
   "outputs": [
    {
     "data": {
      "text/plain": [
       "array([[-1.40676714, -0.89172493, -1.51904778,  1.1763402 ],\n",
       "       [-0.29613457, -0.30711609, -0.47035109,  0.34238975]])"
      ]
     },
     "execution_count": 16,
     "metadata": {},
     "output_type": "execute_result"
    }
   ],
   "source": [
    "# ????? pg. 100 what is this.... \n",
    "names == 'Bob'\n",
    "data[names == 'Bob'] # Does this print the corresponding row #, as where 'Bob' shows up in names ?"
   ]
  },
  {
   "cell_type": "code",
   "execution_count": 18,
   "metadata": {},
   "outputs": [
    {
     "data": {
      "text/plain": [
       "array([[-1.51904778,  1.1763402 ],\n",
       "       [-0.47035109,  0.34238975]])"
      ]
     },
     "execution_count": 18,
     "metadata": {},
     "output_type": "execute_result"
    }
   ],
   "source": [
    "data[names == 'Bob', 2:] #give me, the numbers in the \"Bob\" row, aka 1 and 4, and the 3rd value + onwards"
   ]
  },
  {
   "cell_type": "code",
   "execution_count": 19,
   "metadata": {},
   "outputs": [
    {
     "data": {
      "text/plain": [
       "array([[1.1763402 ],\n",
       "       [0.34238975]])"
      ]
     },
     "execution_count": 19,
     "metadata": {},
     "output_type": "execute_result"
    }
   ],
   "source": [
    "data[names == 'Bob', 3:] # Same, give me numers in the 'Bob' row, and the 4th value onwards (in this case, only max 4 values)"
   ]
  },
  {
   "cell_type": "code",
   "execution_count": 20,
   "metadata": {},
   "outputs": [
    {
     "data": {
      "text/plain": [
       "array([[ 1.12030126,  0.87062442, -0.32328632,  0.86987929],\n",
       "       [-1.63323569,  2.3873891 ,  0.10135972, -0.02746929],\n",
       "       [-0.42412117, -0.09233894, -0.47165129,  0.73853355],\n",
       "       [ 0.67631705,  2.67676415, -1.11937917,  0.51146987],\n",
       "       [-0.72708519, -0.43484328, -0.40598532, -1.27147975]])"
      ]
     },
     "execution_count": 20,
     "metadata": {},
     "output_type": "execute_result"
    }
   ],
   "source": [
    "# To select everything BUT bob you can do 2 ways\n",
    "# names != 'Bob'\n",
    "# OR\n",
    "data[~(names == 'Bob')]\n",
    "\n",
    "## You can also use ~ to invert a general condition and/or print the opposite\n",
    "\n",
    "## Selecting data from an array by boolean indexing ALWAYS creates a copy of the data!"
   ]
  },
  {
   "cell_type": "markdown",
   "metadata": {},
   "source": [
    "#### <font color = #eb4da4>In Python the keywords 'and' and  'or' do not work with boolean arrays.\n",
    "#### <font color = #eb4da4> Use & and | instead"
   ]
  },
  {
   "cell_type": "code",
   "execution_count": 23,
   "metadata": {},
   "outputs": [
    {
     "data": {
      "text/plain": [
       "array([[0.        , 0.        , 0.        , 1.1763402 ],\n",
       "       [1.12030126, 0.87062442, 0.        , 0.86987929],\n",
       "       [0.        , 2.3873891 , 0.10135972, 0.        ],\n",
       "       [0.        , 0.        , 0.        , 0.34238975],\n",
       "       [0.        , 0.        , 0.        , 0.73853355],\n",
       "       [0.67631705, 2.67676415, 0.        , 0.51146987],\n",
       "       [0.        , 0.        , 0.        , 0.        ]])"
      ]
     },
     "execution_count": 23,
     "metadata": {},
     "output_type": "execute_result"
    }
   ],
   "source": [
    "# Setting values with boolean arrays:\n",
    "# e.g. To set all of the negative values in 'data' to 0 :\n",
    "\n",
    "data[data < 0] = 0\n",
    "data"
   ]
  },
  {
   "cell_type": "code",
   "execution_count": 24,
   "metadata": {},
   "outputs": [
    {
     "data": {
      "text/plain": [
       "array([[7.        , 7.        , 7.        , 7.        ],\n",
       "       [1.12030126, 0.87062442, 0.        , 0.86987929],\n",
       "       [7.        , 7.        , 7.        , 7.        ],\n",
       "       [7.        , 7.        , 7.        , 7.        ],\n",
       "       [7.        , 7.        , 7.        , 7.        ],\n",
       "       [0.67631705, 2.67676415, 0.        , 0.51146987],\n",
       "       [0.        , 0.        , 0.        , 0.        ]])"
      ]
     },
     "execution_count": 24,
     "metadata": {},
     "output_type": "execute_result"
    }
   ],
   "source": [
    "# Setting whole rows or columns using a one-dimensional boolean array:\n",
    "\n",
    "data[names != 'Joe'] = 7\n",
    "data"
   ]
  },
  {
   "cell_type": "markdown",
   "metadata": {},
   "source": [
    "## <font color = #30a9d9> Fancy Indexing\n",
    "      Always copies the data into a new array (slicing does NOT)"
   ]
  },
  {
   "cell_type": "code",
   "execution_count": 2,
   "metadata": {},
   "outputs": [
    {
     "data": {
      "text/plain": [
       "array([[0., 0., 0., 0.],\n",
       "       [1., 1., 1., 1.],\n",
       "       [2., 2., 2., 2.],\n",
       "       [3., 3., 3., 3.],\n",
       "       [4., 4., 4., 4.],\n",
       "       [5., 5., 5., 5.],\n",
       "       [6., 6., 6., 6.],\n",
       "       [7., 7., 7., 7.]])"
      ]
     },
     "execution_count": 2,
     "metadata": {},
     "output_type": "execute_result"
    }
   ],
   "source": [
    "import numpy as np\n",
    "\n",
    "# Fancy indexing = using integer arrays\n",
    "\n",
    "arr = np.empty((8, 4))\n",
    "for i in range(8):\n",
    "    arr[i] = i\n",
    "    \n",
    "arr"
   ]
  },
  {
   "cell_type": "code",
   "execution_count": 4,
   "metadata": {},
   "outputs": [
    {
     "data": {
      "text/plain": [
       "array([[4., 4., 4., 4.],\n",
       "       [3., 3., 3., 3.],\n",
       "       [0., 0., 0., 0.],\n",
       "       [6., 6., 6., 6.]])"
      ]
     },
     "execution_count": 4,
     "metadata": {},
     "output_type": "execute_result"
    }
   ],
   "source": [
    "# To select out a subset of rows in a particular order, u can pass a list or ndarray of intergers specifying the desired order\n",
    "\n",
    "arr[[4, 3, 0, 6]]   # AKA this says \"from arr give me the 5th, 4th, 1st and 7th row\""
   ]
  },
  {
   "cell_type": "code",
   "execution_count": 5,
   "metadata": {},
   "outputs": [
    {
     "data": {
      "text/plain": [
       "array([[5., 5., 5., 5.],\n",
       "       [3., 3., 3., 3.],\n",
       "       [1., 1., 1., 1.]])"
      ]
     },
     "execution_count": 5,
     "metadata": {},
     "output_type": "execute_result"
    }
   ],
   "source": [
    "# If u use a negative number (AKA INDICEE/INDEX) it will select rows from the end aka backwards\n",
    "arr[[-3, -5, -7]]"
   ]
  },
  {
   "cell_type": "markdown",
   "metadata": {},
   "source": [
    "#### Passing multiple index arrays"
   ]
  },
  {
   "cell_type": "code",
   "execution_count": 8,
   "metadata": {},
   "outputs": [
    {
     "data": {
      "text/plain": [
       "array([[ 0,  1,  2,  3],\n",
       "       [ 4,  5,  6,  7],\n",
       "       [ 8,  9, 10, 11],\n",
       "       [12, 13, 14, 15],\n",
       "       [16, 17, 18, 19],\n",
       "       [20, 21, 22, 23],\n",
       "       [24, 25, 26, 27],\n",
       "       [28, 29, 30, 31]])"
      ]
     },
     "execution_count": 8,
     "metadata": {},
     "output_type": "execute_result"
    }
   ],
   "source": [
    "# If you try to pass multiple index arrays, something kinda diff. happens.\n",
    "# It selects a one-dimensional arrat of elements corresponding to each tuple of indices\n",
    "\n",
    "arr = np.arange(32).reshape((8,4))  #WHY DO YOU NEED DOUBLE PARANTHESES ????????? pg 103\n",
    "arr     \n",
    "\n",
    " \n",
    "    \n",
    "## The above gives, numbers 0-31, in the shape of 4 rows by 4 columns"
   ]
  },
  {
   "cell_type": "code",
   "execution_count": 9,
   "metadata": {},
   "outputs": [
    {
     "data": {
      "text/plain": [
       "array([ 4, 23, 29, 10])"
      ]
     },
     "execution_count": 9,
     "metadata": {},
     "output_type": "execute_result"
    }
   ],
   "source": [
    "# THIS IS THE PASSING MULTIPLE PART, SEE THE TWO LISTS/NDARRAYS?!\n",
    "\n",
    "arr[[1, 5, 7, 2], [0, 3, 1, 2]]  # Give me the values: from row 2 column 1, row 5 column 4, row 8, column 2, etc.)"
   ]
  },
  {
   "cell_type": "markdown",
   "metadata": {},
   "source": [
    "## <font color = #30a9d9> Transposing Arrays and Swapping Axes\n",
    "    Transposing = a special form of reshaping which does NOT copy anything.\n",
    "    Uses the special \" T \" attribute, aka the transpose method."
   ]
  },
  {
   "cell_type": "code",
   "execution_count": 11,
   "metadata": {},
   "outputs": [
    {
     "data": {
      "text/plain": [
       "array([[ 0,  1,  2,  3,  4],\n",
       "       [ 5,  6,  7,  8,  9],\n",
       "       [10, 11, 12, 13, 14]])"
      ]
     },
     "execution_count": 11,
     "metadata": {},
     "output_type": "execute_result"
    }
   ],
   "source": [
    "arr = np.arange(15).reshape((3, 5))\n",
    "arr"
   ]
  },
  {
   "cell_type": "code",
   "execution_count": 12,
   "metadata": {},
   "outputs": [
    {
     "data": {
      "text/plain": [
       "array([[ 0,  5, 10],\n",
       "       [ 1,  6, 11],\n",
       "       [ 2,  7, 12],\n",
       "       [ 3,  8, 13],\n",
       "       [ 4,  9, 14]])"
      ]
     },
     "execution_count": 12,
     "metadata": {},
     "output_type": "execute_result"
    }
   ],
   "source": [
    "arr.T   # This has arranged it column-wise now, rather than row-wise\n",
    "\n",
    "# If you run just 'arr' again, you'll see that it doesn't override/copy anything"
   ]
  },
  {
   "cell_type": "code",
   "execution_count": 15,
   "metadata": {},
   "outputs": [
    {
     "data": {
      "text/plain": [
       "array([[ 0.97806514,  0.66402968,  2.84439508],\n",
       "       [-1.15302071, -0.31508057, -0.87066753],\n",
       "       [ 1.33694524, -1.25738043,  0.96098981],\n",
       "       [ 0.81620549, -1.02079463, -1.93537872],\n",
       "       [-0.49364603,  0.88102639, -0.44519147],\n",
       "       [ 0.78240714, -0.96285285,  0.23615985]])"
      ]
     },
     "execution_count": 15,
     "metadata": {},
     "output_type": "execute_result"
    }
   ],
   "source": [
    "arr = np.random.randn(6, 3)\n",
    "arr"
   ]
  },
  {
   "cell_type": "markdown",
   "metadata": {},
   "source": [
    "#### <font color = \"gree\"> WTF happened? in no. 16\n",
    "    I understand that np.dot multipies arr.T with arr, but why does it look like this?\n",
    "    Is it because, it can only take on the min number of rows x columns?"
   ]
  },
  {
   "cell_type": "code",
   "execution_count": 17,
   "metadata": {},
   "outputs": [
    {
     "data": {
      "text/plain": [
       "array([[ 5.59552949, -2.68972637,  3.89556554],\n",
       "       [-2.68972637,  4.86653151,  2.310775  ],\n",
       "       [ 3.89556554,  2.310775  , 13.77180442]])"
      ]
     },
     "execution_count": 17,
     "metadata": {},
     "output_type": "execute_result"
    }
   ],
   "source": [
    "\n",
    "np.dot(arr.T, arr)  "
   ]
  },
  {
   "cell_type": "code",
   "execution_count": 18,
   "metadata": {},
   "outputs": [
    {
     "data": {
      "text/plain": [
       "array([[[ 0,  1,  2,  3],\n",
       "        [ 4,  5,  6,  7]],\n",
       "\n",
       "       [[ 8,  9, 10, 11],\n",
       "        [12, 13, 14, 15]]])"
      ]
     },
     "execution_count": 18,
     "metadata": {},
     "output_type": "execute_result"
    }
   ],
   "source": [
    "# For higher dimensional arrays, transpose will accept a tuple of axis numbers to permute \n",
    "# the axes (for extra mind bending): \n",
    "\n",
    "arr = np.arange(16).reshape((2, 2, 4))\n",
    "arr"
   ]
  },
  {
   "cell_type": "markdown",
   "metadata": {},
   "source": [
    "#### <font color = \"red\">WTF happened in no. 19???? \n",
    "    pg. 104\n",
    "    Answer from book: Here, the axes have been reordered with the second axis first, the first axis second, and the last axis unchanged. "
   ]
  },
  {
   "cell_type": "code",
   "execution_count": 19,
   "metadata": {},
   "outputs": [
    {
     "data": {
      "text/plain": [
       "array([[[ 0,  1,  2,  3],\n",
       "        [ 8,  9, 10, 11]],\n",
       "\n",
       "       [[ 4,  5,  6,  7],\n",
       "        [12, 13, 14, 15]]])"
      ]
     },
     "execution_count": 19,
     "metadata": {},
     "output_type": "execute_result"
    }
   ],
   "source": [
    "arr.transpose(1, 0, 2) # Switched the 2nd columns...huh"
   ]
  },
  {
   "cell_type": "code",
   "execution_count": 20,
   "metadata": {},
   "outputs": [
    {
     "data": {
      "text/plain": [
       "array([[[ 0,  4],\n",
       "        [ 1,  5],\n",
       "        [ 2,  6],\n",
       "        [ 3,  7]],\n",
       "\n",
       "       [[ 8, 12],\n",
       "        [ 9, 13],\n",
       "        [10, 14],\n",
       "        [11, 15]]])"
      ]
     },
     "execution_count": 20,
     "metadata": {},
     "output_type": "execute_result"
    }
   ],
   "source": [
    "# Swapping axes... an alternative to Transpose ...also does not make a copy/override the data\n",
    "arr\n",
    "arr.swapaxes(1, 2)"
   ]
  },
  {
   "cell_type": "markdown",
   "metadata": {},
   "source": [
    "# <font color = #30a9d9> 4.2 Universal Functions: Fast Element-Wise Array Functions \n",
    "    AKA a \"ufunc\", for element-wise operations on data in ndarrays.\n",
    "    Many are simple ones, like \"sqt\" or \"exp\"."
   ]
  },
  {
   "cell_type": "code",
   "execution_count": 21,
   "metadata": {},
   "outputs": [
    {
     "data": {
      "text/plain": [
       "array([0, 1, 2, 3, 4, 5, 6, 7, 8, 9])"
      ]
     },
     "execution_count": 21,
     "metadata": {},
     "output_type": "execute_result"
    }
   ],
   "source": [
    "arr = np.arange(10)\n",
    "arr"
   ]
  },
  {
   "cell_type": "code",
   "execution_count": 23,
   "metadata": {},
   "outputs": [
    {
     "data": {
      "text/plain": [
       "array([1.00000000e+00, 2.71828183e+00, 7.38905610e+00, 2.00855369e+01,\n",
       "       5.45981500e+01, 1.48413159e+02, 4.03428793e+02, 1.09663316e+03,\n",
       "       2.98095799e+03, 8.10308393e+03])"
      ]
     },
     "execution_count": 23,
     "metadata": {},
     "output_type": "execute_result"
    }
   ],
   "source": [
    "# np.sqrt(arr)\n",
    "# or even: ... \n",
    "np.exp(arr)"
   ]
  },
  {
   "cell_type": "code",
   "execution_count": 24,
   "metadata": {},
   "outputs": [
    {
     "data": {
      "text/plain": [
       "array([-0.71555195,  0.01657884,  1.6255186 ,  0.61651786, -0.53371681,\n",
       "        0.55537713,  1.65185694,  0.75670576])"
      ]
     },
     "execution_count": 24,
     "metadata": {},
     "output_type": "execute_result"
    }
   ],
   "source": [
    "#These are called \"unary\" ufuncs. Others are \"add\", \"maximum\", take 2 arrays and return a single array as the results\n",
    "\n",
    "x = np.random.randn(8)\n",
    "y = np.random.randn(8)\n",
    "\n",
    "np.maximum(x, y) # spits outs the max for each \"element\"/ data point between the 2 arrays"
   ]
  },
  {
   "cell_type": "code",
   "execution_count": null,
   "metadata": {},
   "outputs": [],
   "source": [
    "# pg. 106\n",
    "arr = np.random.randn(7) * 5\n",
    "arr  # this will print an array of random floating numbers\n",
    "\n",
    " # https://www.tutorialspoint.com/python/number_modf.htm\n",
    "remainder, whole_part = np.modf(arr)    \n",
    "\n",
    "remainder # this will print JUST the numbers after the decminal from arr\n",
    "whole_part # & this will print JUST the whole numbers from arr\n"
   ]
  },
  {
   "cell_type": "markdown",
   "metadata": {},
   "source": [
    "#### see Table 4-3 full a table + description of Unarty unfuncs (p. 107)"
   ]
  },
  {
   "cell_type": "markdown",
   "metadata": {},
   "source": [
    "# <font color = #30a9d9> 4.3 Array-Oriented Programming with Arrays\n",
    "    Using them to get into vectorization, which makes your code run faster.\n",
    "    One method of vectorization is called _broadcasting_."
   ]
  },
  {
   "cell_type": "code",
   "execution_count": 25,
   "metadata": {},
   "outputs": [
    {
     "data": {
      "text/plain": [
       "array([[-5.  , -5.  , -5.  , ..., -5.  , -5.  , -5.  ],\n",
       "       [-4.99, -4.99, -4.99, ..., -4.99, -4.99, -4.99],\n",
       "       [-4.98, -4.98, -4.98, ..., -4.98, -4.98, -4.98],\n",
       "       ...,\n",
       "       [ 4.97,  4.97,  4.97, ...,  4.97,  4.97,  4.97],\n",
       "       [ 4.98,  4.98,  4.98, ...,  4.98,  4.98,  4.98],\n",
       "       [ 4.99,  4.99,  4.99, ...,  4.99,  4.99,  4.99]])"
      ]
     },
     "execution_count": 25,
     "metadata": {},
     "output_type": "execute_result"
    }
   ],
   "source": [
    "'''\n",
    "As a simple example, suppose we wished to evaluate the function sqrt(x^2 + y^2) \n",
    "across a regular grid of values. The np.meshgrid  function takes two 1D arrays and produces two 1D \n",
    "matrices corresponding to all pairs of (x, y) in the two arrays: \n",
    "'''\n",
    "points = np.arange(-5, 5, 0.01) # 1000 equally spaced points\n",
    "\n",
    "xs, ys = np.meshgrid(points, points)\n",
    "\n",
    "ys"
   ]
  },
  {
   "cell_type": "code",
   "execution_count": 26,
   "metadata": {},
   "outputs": [
    {
     "data": {
      "text/plain": [
       "array([[7.07106781, 7.06400028, 7.05693985, ..., 7.04988652, 7.05693985,\n",
       "        7.06400028],\n",
       "       [7.06400028, 7.05692568, 7.04985815, ..., 7.04279774, 7.04985815,\n",
       "        7.05692568],\n",
       "       [7.05693985, 7.04985815, 7.04278354, ..., 7.03571603, 7.04278354,\n",
       "        7.04985815],\n",
       "       ...,\n",
       "       [7.04988652, 7.04279774, 7.03571603, ..., 7.0286414 , 7.03571603,\n",
       "        7.04279774],\n",
       "       [7.05693985, 7.04985815, 7.04278354, ..., 7.03571603, 7.04278354,\n",
       "        7.04985815],\n",
       "       [7.06400028, 7.05692568, 7.04985815, ..., 7.04279774, 7.04985815,\n",
       "        7.05692568]])"
      ]
     },
     "execution_count": 26,
     "metadata": {},
     "output_type": "execute_result"
    }
   ],
   "source": [
    "# ?? p 108 Writing the same expression you would write with 2 points, to evalute them...?????????\n",
    "z = np.sqrt(xs ** 2 + ys ** 2)\n",
    "z"
   ]
  },
  {
   "cell_type": "markdown",
   "metadata": {},
   "source": [
    "#### <font color = \"red\"> WTF is this?\n",
    "    And why did we have to make this weird ass plot.\n",
    "    no. 29m pg 108-109"
   ]
  },
  {
   "cell_type": "code",
   "execution_count": 30,
   "metadata": {},
   "outputs": [
    {
     "data": {
      "text/plain": [
       "Text(0.5, 1.0, 'Ïmage plot of $\\\\sqrt{x^2 + y^2}$ for a grid of values')"
      ]
     },
     "execution_count": 30,
     "metadata": {},
     "output_type": "execute_result"
    },
    {
     "data": {
      "image/png": "[encoded data removed]",
      "text/plain": [
       "<Figure size 432x288 with 2 Axes>"
      ]
     },
     "metadata": {
      "needs_background": "light"
     },
     "output_type": "display_data"
    }
   ],
   "source": [
    "# now plot to evaluate more ???? wat\n",
    "import matplotlib.pyplot as plt\n",
    "\n",
    "plt.imshow(z, cmap = plt.cm.gray); plt.colorbar()\n",
    "plt.title(\"Ïmage plot of $\\sqrt{x^2 + y^2}$ for a grid of values\")"
   ]
  },
  {
   "cell_type": "markdown",
   "metadata": {},
   "source": [
    "## <font color = #30a9d9> Expressing Conditional Logic as Array Operations \n",
    "    The numpy.where function is a vectorized version of the ternary expression \n",
    "    x if condition else y."
   ]
  },
  {
   "cell_type": "code",
   "execution_count": 31,
   "metadata": {},
   "outputs": [],
   "source": [
    "# boolean array examples\n",
    "xarr = np.array([1.1, 1.2, 1.3, 1.4, 1.5])\n",
    "yarr = np.array([2.1, 2.2, 2.3, 2.4, 2.5])\n",
    "cond = np.array([True, False, True, True, False])"
   ]
  },
  {
   "cell_type": "markdown",
   "metadata": {},
   "source": [
    "#### <font color = \"gree\"> WTF is this?\n",
    "    no. 32"
   ]
  },
  {
   "cell_type": "code",
   "execution_count": 34,
   "metadata": {},
   "outputs": [
    {
     "data": {
      "text/plain": [
       "[1.1, 2.2, 1.3, 1.4, 2.5]"
      ]
     },
     "execution_count": 34,
     "metadata": {},
     "output_type": "execute_result"
    }
   ],
   "source": [
    "'''\n",
    "Suppose we wanted to take a value from xarr  whenever the corresponding value in cond is True, \n",
    "and otherwise take the value from yarr. A list comprehension doing this might look like:\n",
    "'''\n",
    "result = [(x if c else y)\n",
    "         for x, y, c in zip(xarr, yarr, cond)]\n",
    "\n",
    "## What the ABOVE DOES IS THIS: Print an array, where everytime X is true, pring that, otherwise\n",
    "# where it is false, PRINT Y!!!! omg\n",
    "# Or rather, it more literally reads as: Return X if true, otherwise return Y. \n",
    "\n",
    "result"
   ]
  },
  {
   "cell_type": "code",
   "execution_count": 35,
   "metadata": {},
   "outputs": [
    {
     "data": {
      "text/plain": [
       "array([1.1, 2.2, 1.3, 1.4, 2.5])"
      ]
     },
     "execution_count": 35,
     "metadata": {},
     "output_type": "execute_result"
    }
   ],
   "source": [
    "# the equivalent to the above, using np.where method:\n",
    "result = np.where(cond, xarr, yarr)\n",
    "result"
   ]
  },
  {
   "cell_type": "markdown",
   "metadata": {},
   "source": [
    "    A typical use of np.where in data analysis is to produce a new array of values \n",
    "    based on another array."
   ]
  },
  {
   "cell_type": "code",
   "execution_count": 36,
   "metadata": {},
   "outputs": [
    {
     "data": {
      "text/plain": [
       "array([[-0.73859547,  1.54427053,  0.2447325 ,  0.5059469 ],\n",
       "       [ 2.67526966,  2.33909855,  0.50159094, -1.36008253],\n",
       "       [-0.78983423,  0.74269807,  1.98455643, -1.44173542],\n",
       "       [-0.55696013, -0.14964815,  2.46579838, -0.21056503]])"
      ]
     },
     "execution_count": 36,
     "metadata": {},
     "output_type": "execute_result"
    }
   ],
   "source": [
    "'''\n",
    "Suppose you had a matrix of randomly generated data and you wanted to replace all positive values \n",
    "with 2 and all negative values with –2. This is very easy to do with np.where: \n",
    "'''\n",
    "arr = np.random.randn(4, 4)\n",
    "arr"
   ]
  },
  {
   "cell_type": "code",
   "execution_count": 37,
   "metadata": {},
   "outputs": [
    {
     "data": {
      "text/plain": [
       "array([[False,  True,  True,  True],\n",
       "       [ True,  True,  True, False],\n",
       "       [False,  True,  True, False],\n",
       "       [False, False,  True, False]])"
      ]
     },
     "execution_count": 37,
     "metadata": {},
     "output_type": "execute_result"
    }
   ],
   "source": [
    "arr > 0"
   ]
  },
  {
   "cell_type": "code",
   "execution_count": 38,
   "metadata": {},
   "outputs": [
    {
     "data": {
      "text/plain": [
       "array([[-2,  2,  2,  2],\n",
       "       [ 2,  2,  2, -2],\n",
       "       [-2,  2,  2, -2],\n",
       "       [-2, -2,  2, -2]])"
      ]
     },
     "execution_count": 38,
     "metadata": {},
     "output_type": "execute_result"
    }
   ],
   "source": [
    "np.where(arr > 0, 2, -2)  # If item in arr is greater than 0, replace with 2. Else with -2"
   ]
  },
  {
   "cell_type": "code",
   "execution_count": 39,
   "metadata": {},
   "outputs": [
    {
     "data": {
      "text/plain": [
       "array([[-0.73859547,  2.        ,  2.        ,  2.        ],\n",
       "       [ 2.        ,  2.        ,  2.        , -1.36008253],\n",
       "       [-0.78983423,  2.        ,  2.        , -1.44173542],\n",
       "       [-0.55696013, -0.14964815,  2.        , -0.21056503]])"
      ]
     },
     "execution_count": 39,
     "metadata": {},
     "output_type": "execute_result"
    }
   ],
   "source": [
    "np.where(arr > 0, 2, arr) # set only positive values to 2"
   ]
  },
  {
   "cell_type": "markdown",
   "metadata": {},
   "source": [
    "## <font color = #30a9d9> Mathematical and Statistical Methods "
   ]
  },
  {
   "cell_type": "code",
   "execution_count": 40,
   "metadata": {},
   "outputs": [
    {
     "data": {
      "text/plain": [
       "array([[ 0.19469092, -0.39568262, -1.25719849,  0.44480436],\n",
       "       [-0.59800774, -0.56717836,  1.78159299, -0.01474261],\n",
       "       [ 0.44694856,  1.09119831, -0.48732562, -1.07643322],\n",
       "       [-0.33262362,  1.58030175, -1.55344125, -1.15132709],\n",
       "       [ 0.33413662,  0.39725324, -2.21302586, -0.56173591]])"
      ]
     },
     "execution_count": 40,
     "metadata": {},
     "output_type": "execute_result"
    }
   ],
   "source": [
    "# Generating some normally distrbuted data to show how u can do math and stats to it\n",
    "arr = np.random.randn(5, 4)\n",
    "arr"
   ]
  },
  {
   "cell_type": "code",
   "execution_count": 42,
   "metadata": {},
   "outputs": [
    {
     "data": {
      "text/plain": [
       "-0.19688978294782714"
      ]
     },
     "execution_count": 42,
     "metadata": {},
     "output_type": "execute_result"
    }
   ],
   "source": [
    "arr.mean()\n",
    "\n",
    "# OR\n",
    "\n",
    "np.mean(arr)\n"
   ]
  },
  {
   "cell_type": "code",
   "execution_count": 43,
   "metadata": {},
   "outputs": [
    {
     "data": {
      "text/plain": [
       "-3.9377956589565426"
      ]
     },
     "execution_count": 43,
     "metadata": {},
     "output_type": "execute_result"
    }
   ],
   "source": [
    "arr.sum()"
   ]
  },
  {
   "cell_type": "code",
   "execution_count": 44,
   "metadata": {},
   "outputs": [
    {
     "data": {
      "text/plain": [
       "array([-0.25334646,  0.15041607, -0.00640299, -0.36427255, -0.51084298])"
      ]
     },
     "execution_count": 44,
     "metadata": {},
     "output_type": "execute_result"
    }
   ],
   "source": [
    "# Functions like mean&sum take an optional 'axis' argument that computes the stats over the given axis\n",
    "arr.mean(axis = 1) # compute mean across columns"
   ]
  },
  {
   "cell_type": "code",
   "execution_count": 45,
   "metadata": {},
   "outputs": [
    {
     "data": {
      "text/plain": [
       "array([ 0.00902894,  0.42117846, -0.74587965, -0.47188689])"
      ]
     },
     "execution_count": 45,
     "metadata": {},
     "output_type": "execute_result"
    }
   ],
   "source": [
    "arr.mean(axis = 0)  # see how this is dif from the above. This one says compute the mean across rows"
   ]
  },
  {
   "cell_type": "code",
   "execution_count": 47,
   "metadata": {},
   "outputs": [
    {
     "data": {
      "text/plain": [
       "array([ 0,  1,  3,  6, 10, 15, 21, 28], dtype=int32)"
      ]
     },
     "execution_count": 47,
     "metadata": {},
     "output_type": "execute_result"
    }
   ],
   "source": [
    "#WTF does cum.sum do... # pg 112\n",
    "arr = np.array([0, 1, 2, 3, 4, 5, 6, 7])\n",
    "arr.cumsum()"
   ]
  },
  {
   "cell_type": "markdown",
   "metadata": {},
   "source": [
    "## <font color = #30a9d9> Methods for Boolean Arrays\n",
    "       1 = True\n",
    "       0 = False\n",
    "       Therefore, some is often used as a means of countring True values in a boolean array."
   ]
  },
  {
   "cell_type": "code",
   "execution_count": 2,
   "metadata": {},
   "outputs": [
    {
     "data": {
      "text/plain": [
       "50"
      ]
     },
     "execution_count": 2,
     "metadata": {},
     "output_type": "execute_result"
    }
   ],
   "source": [
    "import numpy as np\n",
    "arr = np.random.randn(100)\n",
    "(arr > 0).sum() # Number of positive values, AKA TRUE...\n",
    "\n",
    "# Tell me, in the arr array, all values that are greater than 0 aka postive."
   ]
  },
  {
   "cell_type": "code",
   "execution_count": 4,
   "metadata": {},
   "outputs": [
    {
     "data": {
      "text/plain": [
       "False"
      ]
     },
     "execution_count": 4,
     "metadata": {},
     "output_type": "execute_result"
    }
   ],
   "source": [
    "# 'any' and 'all' can also be used\n",
    "# 'any' whether one or more values in an array is true, and 'all' checks if every value is true\n",
    "bools = np.array([False, False, True, False])\n",
    "# bools.any()\n",
    "bools.all()"
   ]
  },
  {
   "cell_type": "markdown",
   "metadata": {},
   "source": [
    "## <font color = #30a9d9> Sorting"
   ]
  },
  {
   "cell_type": "code",
   "execution_count": 5,
   "metadata": {},
   "outputs": [
    {
     "data": {
      "text/plain": [
       "array([-0.50138971, -0.83976601,  1.00708303, -0.2899056 , -0.27854134,\n",
       "       -0.59417191])"
      ]
     },
     "execution_count": 5,
     "metadata": {},
     "output_type": "execute_result"
    }
   ],
   "source": [
    "arr = np.random.randn(6)\n",
    "arr"
   ]
  },
  {
   "cell_type": "code",
   "execution_count": 8,
   "metadata": {},
   "outputs": [
    {
     "data": {
      "text/plain": [
       "array([-0.83976601, -0.59417191, -0.50138971, -0.2899056 , -0.27854134,\n",
       "        1.00708303])"
      ]
     },
     "execution_count": 8,
     "metadata": {},
     "output_type": "execute_result"
    }
   ],
   "source": [
    "arr.sort()\n",
    "arr"
   ]
  },
  {
   "cell_type": "code",
   "execution_count": 9,
   "metadata": {},
   "outputs": [
    {
     "data": {
      "text/plain": [
       "array([[0.48387122, 0.09275991, 0.41723746],\n",
       "       [0.06857555, 0.0491266 , 0.68297553],\n",
       "       [0.08438831, 0.20645427, 0.7417237 ],\n",
       "       [0.5920988 , 0.09620617, 0.73452387],\n",
       "       [0.41099457, 0.30516397, 0.56757383]])"
      ]
     },
     "execution_count": 9,
     "metadata": {},
     "output_type": "execute_result"
    }
   ],
   "source": [
    "# you can sort one dimsion of a multidimensional array\n",
    "arr = np.random.rand(5, 3)\n",
    "arr"
   ]
  },
  {
   "cell_type": "code",
   "execution_count": 10,
   "metadata": {},
   "outputs": [
    {
     "data": {
      "text/plain": [
       "array([[0.09275991, 0.41723746, 0.48387122],\n",
       "       [0.0491266 , 0.06857555, 0.68297553],\n",
       "       [0.08438831, 0.20645427, 0.7417237 ],\n",
       "       [0.09620617, 0.5920988 , 0.73452387],\n",
       "       [0.30516397, 0.41099457, 0.56757383]])"
      ]
     },
     "execution_count": 10,
     "metadata": {},
     "output_type": "execute_result"
    }
   ],
   "source": [
    "arr.sort(1)  #only sorts UP TO the first two rows\n",
    "arr\n",
    "\n",
    "\n",
    "#Note that this just returns a sorted COPY of the array, not overriding it or anything..."
   ]
  },
  {
   "cell_type": "code",
   "execution_count": 11,
   "metadata": {},
   "outputs": [
    {
     "data": {
      "text/plain": [
       "-1.6681605269536717"
      ]
     },
     "execution_count": 11,
     "metadata": {},
     "output_type": "execute_result"
    }
   ],
   "source": [
    "# A quick wway to compute the quantiles (pg. 114) ???? the fuck does this  mean\n",
    "large_arr = np.random.randn(1000)\n",
    "large_arr.sort()\n",
    "\n",
    "large_arr[int(0.05 * len(large_arr))] # 5% quantile"
   ]
  },
  {
   "cell_type": "markdown",
   "metadata": {},
   "source": [
    "## <font color = #30a9d9> Unique and Other Set Logic \n",
    "    np.unique, which returns the sorted unique values in an array"
   ]
  },
  {
   "cell_type": "code",
   "execution_count": 12,
   "metadata": {},
   "outputs": [
    {
     "data": {
      "text/plain": [
       "array(['Bob', 'Joe', 'Will'], dtype='<U4')"
      ]
     },
     "execution_count": 12,
     "metadata": {},
     "output_type": "execute_result"
    }
   ],
   "source": [
    "names = np.array(['Bob', 'Joe', 'Will', 'Bob', 'Will', 'Joe', 'Joe'])\n",
    "np.unique(names)  # aka, give you all the diff values that come up, without mentioning the repeats!"
   ]
  },
  {
   "cell_type": "code",
   "execution_count": 14,
   "metadata": {},
   "outputs": [
    {
     "data": {
      "text/plain": [
       "array([1, 2, 3, 4, 5])"
      ]
     },
     "execution_count": 14,
     "metadata": {},
     "output_type": "execute_result"
    }
   ],
   "source": [
    "ints = np.array([3, 3, 3, 2, 2, 1, 1, 4, 4, 5])\n",
    "np.unique(ints)"
   ]
  },
  {
   "cell_type": "code",
   "execution_count": 15,
   "metadata": {},
   "outputs": [
    {
     "data": {
      "text/plain": [
       "['Bob', 'Joe', 'Will']"
      ]
     },
     "execution_count": 15,
     "metadata": {},
     "output_type": "execute_result"
    }
   ],
   "source": [
    "# Alternatively, you can use a PURE Python alternative, instead of the Numpy function\n",
    "sorted(set(names))\n",
    "\n",
    "# tis the same thing"
   ]
  },
  {
   "cell_type": "code",
   "execution_count": 17,
   "metadata": {},
   "outputs": [
    {
     "data": {
      "text/plain": [
       "array([ True, False, False,  True,  True, False,  True])"
      ]
     },
     "execution_count": 17,
     "metadata": {},
     "output_type": "execute_result"
    }
   ],
   "source": [
    "# There is also np.in1d, that \"tests membership of the values in one away in another\", returns a boolean arr.\n",
    "values = np.array([6, 0, 0, 3, 2, 5, 6])\n",
    "np.in1d(values, [2, 3, 6])  # this is asking, does 2, 3, and 6 appear in the array \"values\""
   ]
  },
  {
   "cell_type": "markdown",
   "metadata": {},
   "source": [
    "    See table 4-6 for more Array set operators, pg 115"
   ]
  },
  {
   "cell_type": "markdown",
   "metadata": {},
   "source": [
    "# <font color = #30a9d9> 4.4 File Input and Output with Arrays\n",
    "    Loading data from NumPy's built in binary format.\n",
    "    Using np.save, and np.load, and file extension .npy"
   ]
  },
  {
   "cell_type": "code",
   "execution_count": 19,
   "metadata": {},
   "outputs": [
    {
     "data": {
      "text/plain": [
       "array([0, 1, 2, 3, 4, 5, 6, 7, 8, 9])"
      ]
     },
     "execution_count": 19,
     "metadata": {},
     "output_type": "execute_result"
    }
   ],
   "source": [
    "arr = np.arange(10)\n",
    "np.save('some_array', arr) # saves le file\n",
    "np.load('some_array.npy') # loads/prints le file"
   ]
  },
  {
   "cell_type": "code",
   "execution_count": 20,
   "metadata": {},
   "outputs": [],
   "source": [
    "# To save multiple arrs in an uncompressed archive using np.savez &passing the arrs as keyword arguments:\n",
    "np.savez('array_archive.npz', a = arr, b = arr)\n"
   ]
  },
  {
   "cell_type": "code",
   "execution_count": 21,
   "metadata": {},
   "outputs": [
    {
     "data": {
      "text/plain": [
       "array([0, 1, 2, 3, 4, 5, 6, 7, 8, 9])"
      ]
     },
     "execution_count": 21,
     "metadata": {},
     "output_type": "execute_result"
    }
   ],
   "source": [
    "# To load the .npz file, you get back a dict-like object that loads the individual arrays lazily\n",
    "arch = np.load('array_archive.npz')\n",
    "arch['b']"
   ]
  },
  {
   "cell_type": "markdown",
   "metadata": {},
   "source": [
    "# <font color = #30a9d9> 4.5. Linear Algebra"
   ]
  },
  {
   "cell_type": "code",
   "execution_count": 22,
   "metadata": {},
   "outputs": [
    {
     "data": {
      "text/plain": [
       "array([[1., 2., 3.],\n",
       "       [4., 5., 6.]])"
      ]
     },
     "execution_count": 22,
     "metadata": {},
     "output_type": "execute_result"
    }
   ],
   "source": [
    "x = np.array([[1., 2., 3.], [4., 5., 6.]])\n",
    "y = np.array([[6., 23.], [-1, 7], [8, 9]])\n",
    "\n",
    "x"
   ]
  },
  {
   "cell_type": "code",
   "execution_count": 23,
   "metadata": {},
   "outputs": [
    {
     "data": {
      "text/plain": [
       "array([[ 6., 23.],\n",
       "       [-1.,  7.],\n",
       "       [ 8.,  9.]])"
      ]
     },
     "execution_count": 23,
     "metadata": {},
     "output_type": "execute_result"
    }
   ],
   "source": [
    "y"
   ]
  },
  {
   "cell_type": "code",
   "execution_count": 24,
   "metadata": {},
   "outputs": [
    {
     "data": {
      "text/plain": [
       "array([[ 28.,  64.],\n",
       "       [ 67., 181.]])"
      ]
     },
     "execution_count": 24,
     "metadata": {},
     "output_type": "execute_result"
    }
   ],
   "source": [
    "x.dot(y) # this Multiplies the two arrays together"
   ]
  },
  {
   "cell_type": "code",
   "execution_count": 26,
   "metadata": {},
   "outputs": [
    {
     "data": {
      "text/plain": [
       "array([[ 28.,  64.],\n",
       "       [ 67., 181.]])"
      ]
     },
     "execution_count": 26,
     "metadata": {},
     "output_type": "execute_result"
    }
   ],
   "source": [
    "np.dot(x, y) # does the same as the above"
   ]
  },
  {
   "cell_type": "code",
   "execution_count": 28,
   "metadata": {},
   "outputs": [
    {
     "data": {
      "text/plain": [
       "array([ 6., 15.])"
      ]
     },
     "execution_count": 28,
     "metadata": {},
     "output_type": "execute_result"
    }
   ],
   "source": [
    "np.dot(x, np.ones(3))"
   ]
  },
  {
   "cell_type": "code",
   "execution_count": 29,
   "metadata": {},
   "outputs": [
    {
     "data": {
      "text/plain": [
       "array([ 6., 15.])"
      ]
     },
     "execution_count": 29,
     "metadata": {},
     "output_type": "execute_result"
    }
   ],
   "source": [
    "# the @ can work as an infix operator that does matrix multiplaction. aka it is the same as * \n",
    "x @ np.ones(3)"
   ]
  },
  {
   "cell_type": "code",
   "execution_count": 32,
   "metadata": {},
   "outputs": [
    {
     "data": {
      "text/plain": [
       "array([[-10.07936466,  -6.76324327,   0.92414315,  -2.75463304,\n",
       "          6.10288614],\n",
       "       [  0.        ,  -5.88970818,   3.00519946,  -4.78257973,\n",
       "          4.70392763],\n",
       "       [  0.        ,   0.        ,  -9.66569613,   5.19145238,\n",
       "          0.98755584],\n",
       "       [  0.        ,   0.        ,   0.        ,  -2.87185053,\n",
       "          2.87468538],\n",
       "       [  0.        ,   0.        ,   0.        ,   0.        ,\n",
       "          0.9409542 ]])"
      ]
     },
     "execution_count": 32,
     "metadata": {},
     "output_type": "execute_result"
    }
   ],
   "source": [
    "# numpy.linalg has a set of cunts that are fount in Matlab and R...wat\n",
    "\n",
    "from numpy.linalg import inv, qr\n",
    "\n",
    "X = np.random.randn(5, 5)\n",
    "mat = X.T.dot(X)\n",
    "inv(mat)\n",
    "\n",
    "# linear algebra shit\n",
    "mat.dot(inv(mat))\n",
    "q, r = qr(mat)\n",
    "r"
   ]
  },
  {
   "cell_type": "markdown",
   "metadata": {},
   "source": [
    "# <font color = #30a9d9> 4.6 Pseudorandom Number Generation \n",
    "    Generating whole arrays of sample values...!\n",
    "   "
   ]
  },
  {
   "cell_type": "code",
   "execution_count": 33,
   "metadata": {},
   "outputs": [
    {
     "data": {
      "text/plain": [
       "array([[-0.17258152,  0.41707172, -0.61016507, -0.86300726],\n",
       "       [ 0.84939206, -0.26146276, -1.89215682, -1.01579714],\n",
       "       [-0.12321947,  2.91435287,  0.09782601,  0.66578754],\n",
       "       [ 1.79976271, -0.28168475, -0.5966973 , -0.08610355]])"
      ]
     },
     "execution_count": 33,
     "metadata": {},
     "output_type": "execute_result"
    }
   ],
   "source": [
    "# Using 'normal' to obtain a sample array from the normal distrubtion\n",
    "samples = np.random.normal(size = (4, 4))\n",
    "samples"
   ]
  },
  {
   "cell_type": "code",
   "execution_count": 35,
   "metadata": {},
   "outputs": [
    {
     "name": "stdout",
     "output_type": "stream",
     "text": [
      "1.68 s ± 42 ms per loop (mean ± std. dev. of 7 runs, 1 loop each)\n"
     ]
    }
   ],
   "source": [
    "# There is also Python’s built-in random  module, by contrast, only samples one value at a time\n",
    "from random import normalvariate\n",
    "N = 1000000\n",
    "%timeit samples = [normalvariate(0, 1) for _ in range(N)] "
   ]
  },
  {
   "cell_type": "code",
   "execution_count": 36,
   "metadata": {},
   "outputs": [
    {
     "data": {
      "text/plain": [
       "array([ 0.47143516, -1.19097569,  1.43270697, -0.3126519 , -0.72058873,\n",
       "        0.88716294,  0.85958841, -0.6365235 ,  0.01569637, -2.24268495])"
      ]
     },
     "execution_count": 36,
     "metadata": {},
     "output_type": "execute_result"
    }
   ],
   "source": [
    "# You can change NumPy’s random number generation seed using np.random.seed: \n",
    "np.random.seed(1234)\n",
    "rng = np.random.RandomState(1234)\n",
    "rng.randn(10)"
   ]
  },
  {
   "cell_type": "markdown",
   "metadata": {},
   "source": [
    "     See Table 4-8. Partial list of numpy.random functions  pg 119"
   ]
  },
  {
   "cell_type": "markdown",
   "metadata": {},
   "source": [
    "# <font color = #30a9d9> 4.7 Example: Random Walks\n",
    "    An illustrative application of utilizing array operations.\n",
    "    Look more into random walks/ similar to Monte Carlo, as a famous stats example\n",
    "    "
   ]
  },
  {
   "cell_type": "code",
   "execution_count": 54,
   "metadata": {},
   "outputs": [
    {
     "data": {
      "text/plain": [
       "[<matplotlib.lines.Line2D at 0x20a00bf9100>]"
      ]
     },
     "execution_count": 54,
     "metadata": {},
     "output_type": "execute_result"
    },
    {
     "data": {
      "image/png": "[encoded data removed]",
      "text/plain": [
       "<Figure size 432x288 with 1 Axes>"
      ]
     },
     "metadata": {
      "needs_background": "light"
     },
     "output_type": "display_data"
    }
   ],
   "source": [
    "# First, here is a pure Python way to implement a single random walk with 1000 steps\n",
    "# 1st consider a simple random walk starting at 0 with steps of 1 and –1 occurring with equal probability. \n",
    "import random\n",
    "import matplotlib.pyplot as plt\n",
    "position = 0                       # our starting positiong\n",
    "walk = [position]                   # walks start at our position\n",
    "steps = 1000                       # we are gonna do this shit 1000 times, aka flips, aka steps\n",
    "for i in range(steps):\n",
    "    step = 1 if random.randint(0, 1) else -1\n",
    "    position += step\n",
    "    walk.append(position)\n",
    "    \n",
    "plt.plot(walk[:100])      #plot the first 100 steps/flips\n",
    "\n",
    "## COULD NOT GET THIS WORK\n"
   ]
  },
  {
   "cell_type": "code",
   "execution_count": 60,
   "metadata": {},
   "outputs": [
    {
     "data": {
      "text/plain": [
       "18"
      ]
     },
     "execution_count": 60,
     "metadata": {},
     "output_type": "execute_result"
    }
   ],
   "source": [
    "# pg 120  use the np.random module to draw 1,000 coin flips at once, set these to 1 and –1, and compute the cumulative sum: \n",
    "\n",
    "nsteps = 1000\n",
    "draws = np.random.randint(0, 2, size = nsteps)\n",
    "steps = np.where(draws > 0, 1, -1)\n",
    "walk = steps.cumsum()\n",
    "walk.min()\n",
    "walk.max()"
   ]
  },
  {
   "cell_type": "code",
   "execution_count": 61,
   "metadata": {},
   "outputs": [
    {
     "data": {
      "text/plain": [
       "37"
      ]
     },
     "execution_count": 61,
     "metadata": {},
     "output_type": "execute_result"
    }
   ],
   "source": [
    "# If we want to know a particular value, how long the walk took to get at least 10 steps away from the origin, aka 0\n",
    "\n",
    "(np.abs(walk) >= 10).argmax()"
   ]
  },
  {
   "cell_type": "markdown",
   "metadata": {},
   "source": [
    "## <font color = #30a9d9> Simulating Many Random Walks at Once \n",
    "    If you want to simulate many random walks, you can generate them via a 2-tuple...\n",
    "    & then we can compute the cumulative sum across the rows to compute them all\n",
    "    For example, let's look at 5000 random walks:"
   ]
  },
  {
   "cell_type": "code",
   "execution_count": 62,
   "metadata": {},
   "outputs": [
    {
     "data": {
      "text/plain": [
       "array([[  1,   0,   1, ...,  46,  45,  44],\n",
       "       [  1,   0,  -1, ...,   6,   7,   8],\n",
       "       [ -1,  -2,  -3, ..., -56, -55, -54],\n",
       "       ...,\n",
       "       [ -1,  -2,  -1, ..., -18, -19, -18],\n",
       "       [  1,   0,  -1, ...,  24,  23,  22],\n",
       "       [ -1,   0,   1, ...,  14,  15,  16]], dtype=int32)"
      ]
     },
     "execution_count": 62,
     "metadata": {},
     "output_type": "execute_result"
    }
   ],
   "source": [
    "nwalks = 5000\n",
    "nsteps = 1000\n",
    "draws = np.random.randint(0, 2, size = (nwalks, nsteps)) # 0 or 1...??? pg 121\n",
    "steps = np.where(draws > 0, 1, -1)\n",
    "walks = steps.cumsum(1)\n",
    "walks"
   ]
  },
  {
   "cell_type": "code",
   "execution_count": 64,
   "metadata": {},
   "outputs": [
    {
     "data": {
      "text/plain": [
       "-128"
      ]
     },
     "execution_count": 64,
     "metadata": {},
     "output_type": "execute_result"
    }
   ],
   "source": [
    "walks.max()\n",
    "walks.min()"
   ]
  },
  {
   "cell_type": "code",
   "execution_count": 67,
   "metadata": {},
   "outputs": [
    {
     "data": {
      "text/plain": [
       "3367"
      ]
     },
     "execution_count": 67,
     "metadata": {},
     "output_type": "execute_result"
    }
   ],
   "source": [
    "# Out of these walks, let’s compute the minimum crossing time to 30 or –30. \n",
    "# This is slightly tricky because not all 5,000 of them reach 30. \n",
    "# We can check this using the any method: \n",
    "\n",
    "hits30 = (np.abs(walks) >= 30).any(1)  # What the fuck is this for??? 1 = hit, aka coin flip, -1 is a miss, 0 means a draw\n",
    "hits30\n",
    "hits30.sum() # No. that hit 30 or -30"
   ]
  },
  {
   "cell_type": "code",
   "execution_count": 68,
   "metadata": {},
   "outputs": [
    {
     "data": {
      "text/plain": [
       "510.44817344817346"
      ]
     },
     "execution_count": 68,
     "metadata": {},
     "output_type": "execute_result"
    }
   ],
   "source": [
    "# You can select out the rwos of walks that acutally cross absolute 30 using argmax...\n",
    "\n",
    "cross_times = (np.abs(walks[hits30]) >= 30).argmax(1)\n",
    "cross_times.mean()"
   ]
  }
 ],
 "metadata": {
  "kernelspec": {
   "display_name": "Python 3",
   "language": "python",
   "name": "python3"
  },
  "language_info": {
   "codemirror_mode": {
    "name": "ipython",
    "version": 3
   },
   "file_extension": ".py",
   "mimetype": "text/x-python",
   "name": "python",
   "nbconvert_exporter": "python",
   "pygments_lexer": "ipython3",
   "version": "3.8.3"
  }
 },
 "nbformat": 4,
 "nbformat_minor": 4
}
